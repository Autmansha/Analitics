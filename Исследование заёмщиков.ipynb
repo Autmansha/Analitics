{
 "cells": [
  {
   "cell_type": "markdown",
   "metadata": {},
   "source": [
    "## Исследование надёжности заёмщиков\n",
    "\n",
    "Заказчик — кредитный отдел банка. Нужно разобраться, влияет ли семейное положение и количество детей клиента на факт погашения кредита в срок. Входные данные от банка — статистика о платёжеспособности клиентов.\n",
    "\n",
    "Результаты исследования будут учтены при построении модели **кредитного скоринга** — специальной системы, которая оценивает способность потенциального заёмщика вернуть кредит банку."
   ]
  },
  {
   "cell_type": "markdown",
   "metadata": {},
   "source": [
    "### Шаг 1. Читаем  файл с данными и изучаем общую информацию. "
   ]
  },
  {
   "cell_type": "code",
   "execution_count": 1,
   "metadata": {},
   "outputs": [
    {
     "name": "stdout",
     "output_type": "stream",
     "text": [
      "<class 'pandas.core.frame.DataFrame'>\n",
      "RangeIndex: 21525 entries, 0 to 21524\n",
      "Data columns (total 12 columns):\n",
      "children            21525 non-null int64\n",
      "days_employed       19351 non-null float64\n",
      "dob_years           21525 non-null int64\n",
      "education           21525 non-null object\n",
      "education_id        21525 non-null int64\n",
      "family_status       21525 non-null object\n",
      "family_status_id    21525 non-null int64\n",
      "gender              21525 non-null object\n",
      "income_type         21525 non-null object\n",
      "debt                21525 non-null int64\n",
      "total_income        19351 non-null float64\n",
      "purpose             21525 non-null object\n",
      "dtypes: float64(2), int64(5), object(5)\n",
      "memory usage: 2.0+ MB\n"
     ]
    }
   ],
   "source": [
    "import pandas as pd\n",
    "data = pd.read_csv('/datasets/data.csv')\n",
    "#print(data)\n",
    "data.info()"
   ]
  },
  {
   "cell_type": "markdown",
   "metadata": {},
   "source": [
    "### Вывод"
   ]
  },
  {
   "cell_type": "markdown",
   "metadata": {},
   "source": [
    "в таблице есть одинаковое количество пропущенных значений только в столбцах days_employed и total_income\n",
    "все столбцы на первый взгляд в нужном типе данных"
   ]
  },
  {
   "cell_type": "markdown",
   "metadata": {},
   "source": [
    "### Шаг 2. Предобработка данных"
   ]
  },
  {
   "cell_type": "markdown",
   "metadata": {},
   "source": [
    "### Обработка пропусков"
   ]
  },
  {
   "cell_type": "code",
   "execution_count": 2,
   "metadata": {},
   "outputs": [
    {
     "name": "stdout",
     "output_type": "stream",
     "text": [
      "F 134155.2834794494\n",
      "M 167714.34371587454\n",
      "XNA 203905.15726101527\n"
     ]
    },
    {
     "data": {
      "text/plain": [
       "children            0\n",
       "dob_years           0\n",
       "education           0\n",
       "education_id        0\n",
       "family_status       0\n",
       "family_status_id    0\n",
       "gender              0\n",
       "income_type         0\n",
       "debt                0\n",
       "total_income        0\n",
       "purpose             0\n",
       "dtype: int64"
      ]
     },
     "metadata": {},
     "output_type": "display_data"
    }
   ],
   "source": [
    "#print(data['total_income'].isna().sum())\n",
    "#print(data.isna().sum()) #- подсчёт пропущенных значений в каждом столбце\n",
    "del data['days_employed']\n",
    "for gender in data['gender'].unique():\n",
    "    median = data.loc[data['gender'] == gender, 'total_income'].median()\n",
    "    print(gender, median)\n",
    "    data.loc[data['total_income'].isna() & (data['gender'] == gender), 'total_income'] = median\n",
    "display(data.isna().sum())"
   ]
  },
  {
   "cell_type": "markdown",
   "metadata": {},
   "source": [
    "### Вывод"
   ]
  },
  {
   "cell_type": "markdown",
   "metadata": {},
   "source": [
    "Для заполнения пропусков в столбце с ежемесячным доходом группируем и ищем медиану по столбцам пола  и ежемесячного дохода\n",
    "После заполнения пропусков в total_income проверочная информация выдала пропуски только в столбце со стажем. В вопросе задачи \"влияет ли семейное положение и количество детей на факт погашения кредита в срок\" информация со стажем минимально повлияет на результат и анализ => столбец days_employed по этим соображениям был удалён. Проверка таблицы после проделанного этапа.\n",
    "\n",
    "\n",
    "Возможные причины отсутствия данных у одних и тех же людей в столбцах со стажем и ежемесячным доходом могут быть вызваны не предоставлением таких данных по собственному решению клиентов, невозможности документально подтвердить информацию, вероятны случаи отсутствия стажа как такового, как и ежемесячного дохода. Также, маловероятная, но имеющая место быть приxина техничего сбоя выгрузки файла. "
   ]
  },
  {
   "cell_type": "markdown",
   "metadata": {},
   "source": [
    "### Замена типа данных"
   ]
  },
  {
   "cell_type": "code",
   "execution_count": 3,
   "metadata": {},
   "outputs": [
    {
     "data": {
      "text/plain": [
       "array([ 1,  0,  3,  2, -1,  4, 20,  5])"
      ]
     },
     "metadata": {},
     "output_type": "display_data"
    },
    {
     "data": {
      "text/plain": [
       "array([1, 0, 3, 2, 4, 5])"
      ]
     },
     "metadata": {},
     "output_type": "display_data"
    },
    {
     "data": {
      "text/plain": [
       "array(['высшее', 'среднее', 'Среднее', 'СРЕДНЕЕ', 'ВЫСШЕЕ',\n",
       "       'неоконченное высшее', 'начальное', 'Высшее',\n",
       "       'НЕОКОНЧЕННОЕ ВЫСШЕЕ', 'Неоконченное высшее', 'НАЧАЛЬНОЕ',\n",
       "       'Начальное', 'Ученая степень', 'УЧЕНАЯ СТЕПЕНЬ', 'ученая степень'],\n",
       "      dtype=object)"
      ]
     },
     "metadata": {},
     "output_type": "display_data"
    },
    {
     "data": {
      "text/html": [
       "<div>\n",
       "<style scoped>\n",
       "    .dataframe tbody tr th:only-of-type {\n",
       "        vertical-align: middle;\n",
       "    }\n",
       "\n",
       "    .dataframe tbody tr th {\n",
       "        vertical-align: top;\n",
       "    }\n",
       "\n",
       "    .dataframe thead th {\n",
       "        text-align: right;\n",
       "    }\n",
       "</style>\n",
       "<table border=\"1\" class=\"dataframe\">\n",
       "  <thead>\n",
       "    <tr style=\"text-align: right;\">\n",
       "      <th></th>\n",
       "      <th>children</th>\n",
       "      <th>dob_years</th>\n",
       "      <th>education</th>\n",
       "      <th>education_id</th>\n",
       "      <th>family_status</th>\n",
       "      <th>family_status_id</th>\n",
       "      <th>gender</th>\n",
       "      <th>income_type</th>\n",
       "      <th>debt</th>\n",
       "      <th>total_income</th>\n",
       "      <th>purpose</th>\n",
       "      <th>education_lower</th>\n",
       "    </tr>\n",
       "  </thead>\n",
       "  <tbody>\n",
       "    <tr>\n",
       "      <td>0</td>\n",
       "      <td>1</td>\n",
       "      <td>42</td>\n",
       "      <td>высшее</td>\n",
       "      <td>0</td>\n",
       "      <td>женат / замужем</td>\n",
       "      <td>0</td>\n",
       "      <td>F</td>\n",
       "      <td>сотрудник</td>\n",
       "      <td>0</td>\n",
       "      <td>253875.639453</td>\n",
       "      <td>покупка жилья</td>\n",
       "      <td>высшее</td>\n",
       "    </tr>\n",
       "    <tr>\n",
       "      <td>1</td>\n",
       "      <td>1</td>\n",
       "      <td>36</td>\n",
       "      <td>среднее</td>\n",
       "      <td>1</td>\n",
       "      <td>женат / замужем</td>\n",
       "      <td>0</td>\n",
       "      <td>F</td>\n",
       "      <td>сотрудник</td>\n",
       "      <td>0</td>\n",
       "      <td>112080.014102</td>\n",
       "      <td>приобретение автомобиля</td>\n",
       "      <td>среднее</td>\n",
       "    </tr>\n",
       "    <tr>\n",
       "      <td>2</td>\n",
       "      <td>0</td>\n",
       "      <td>33</td>\n",
       "      <td>Среднее</td>\n",
       "      <td>1</td>\n",
       "      <td>женат / замужем</td>\n",
       "      <td>0</td>\n",
       "      <td>M</td>\n",
       "      <td>сотрудник</td>\n",
       "      <td>0</td>\n",
       "      <td>145885.952297</td>\n",
       "      <td>покупка жилья</td>\n",
       "      <td>среднее</td>\n",
       "    </tr>\n",
       "    <tr>\n",
       "      <td>3</td>\n",
       "      <td>3</td>\n",
       "      <td>32</td>\n",
       "      <td>среднее</td>\n",
       "      <td>1</td>\n",
       "      <td>женат / замужем</td>\n",
       "      <td>0</td>\n",
       "      <td>M</td>\n",
       "      <td>сотрудник</td>\n",
       "      <td>0</td>\n",
       "      <td>267628.550329</td>\n",
       "      <td>дополнительное образование</td>\n",
       "      <td>среднее</td>\n",
       "    </tr>\n",
       "    <tr>\n",
       "      <td>4</td>\n",
       "      <td>0</td>\n",
       "      <td>53</td>\n",
       "      <td>среднее</td>\n",
       "      <td>1</td>\n",
       "      <td>гражданский брак</td>\n",
       "      <td>1</td>\n",
       "      <td>F</td>\n",
       "      <td>пенсионер</td>\n",
       "      <td>0</td>\n",
       "      <td>158616.077870</td>\n",
       "      <td>сыграть свадьбу</td>\n",
       "      <td>среднее</td>\n",
       "    </tr>\n",
       "  </tbody>\n",
       "</table>\n",
       "</div>"
      ],
      "text/plain": [
       "   children  dob_years education  education_id     family_status  \\\n",
       "0         1         42    высшее             0   женат / замужем   \n",
       "1         1         36   среднее             1   женат / замужем   \n",
       "2         0         33   Среднее             1   женат / замужем   \n",
       "3         3         32   среднее             1   женат / замужем   \n",
       "4         0         53   среднее             1  гражданский брак   \n",
       "\n",
       "   family_status_id gender income_type  debt   total_income  \\\n",
       "0                 0      F   сотрудник     0  253875.639453   \n",
       "1                 0      F   сотрудник     0  112080.014102   \n",
       "2                 0      M   сотрудник     0  145885.952297   \n",
       "3                 0      M   сотрудник     0  267628.550329   \n",
       "4                 1      F   пенсионер     0  158616.077870   \n",
       "\n",
       "                      purpose education_lower  \n",
       "0               покупка жилья          высшее  \n",
       "1     приобретение автомобиля         среднее  \n",
       "2               покупка жилья         среднее  \n",
       "3  дополнительное образование         среднее  \n",
       "4             сыграть свадьбу         среднее  "
      ]
     },
     "metadata": {},
     "output_type": "display_data"
    },
    {
     "data": {
      "text/plain": [
       "array(['высшее', 'среднее', 'неоконченное высшее', 'начальное',\n",
       "       'ученая степень'], dtype=object)"
      ]
     },
     "metadata": {},
     "output_type": "display_data"
    },
    {
     "data": {
      "text/html": [
       "<div>\n",
       "<style scoped>\n",
       "    .dataframe tbody tr th:only-of-type {\n",
       "        vertical-align: middle;\n",
       "    }\n",
       "\n",
       "    .dataframe tbody tr th {\n",
       "        vertical-align: top;\n",
       "    }\n",
       "\n",
       "    .dataframe thead th {\n",
       "        text-align: right;\n",
       "    }\n",
       "</style>\n",
       "<table border=\"1\" class=\"dataframe\">\n",
       "  <thead>\n",
       "    <tr style=\"text-align: right;\">\n",
       "      <th></th>\n",
       "      <th>children</th>\n",
       "      <th>dob_years</th>\n",
       "      <th>education_id</th>\n",
       "      <th>family_status</th>\n",
       "      <th>family_status_id</th>\n",
       "      <th>gender</th>\n",
       "      <th>income_type</th>\n",
       "      <th>debt</th>\n",
       "      <th>total_income</th>\n",
       "      <th>purpose</th>\n",
       "      <th>education_lower</th>\n",
       "    </tr>\n",
       "  </thead>\n",
       "  <tbody>\n",
       "    <tr>\n",
       "      <td>0</td>\n",
       "      <td>1</td>\n",
       "      <td>42</td>\n",
       "      <td>0</td>\n",
       "      <td>женат / замужем</td>\n",
       "      <td>0</td>\n",
       "      <td>F</td>\n",
       "      <td>сотрудник</td>\n",
       "      <td>0</td>\n",
       "      <td>253875.639453</td>\n",
       "      <td>покупка жилья</td>\n",
       "      <td>высшее</td>\n",
       "    </tr>\n",
       "    <tr>\n",
       "      <td>1</td>\n",
       "      <td>1</td>\n",
       "      <td>36</td>\n",
       "      <td>1</td>\n",
       "      <td>женат / замужем</td>\n",
       "      <td>0</td>\n",
       "      <td>F</td>\n",
       "      <td>сотрудник</td>\n",
       "      <td>0</td>\n",
       "      <td>112080.014102</td>\n",
       "      <td>приобретение автомобиля</td>\n",
       "      <td>среднее</td>\n",
       "    </tr>\n",
       "    <tr>\n",
       "      <td>2</td>\n",
       "      <td>0</td>\n",
       "      <td>33</td>\n",
       "      <td>1</td>\n",
       "      <td>женат / замужем</td>\n",
       "      <td>0</td>\n",
       "      <td>M</td>\n",
       "      <td>сотрудник</td>\n",
       "      <td>0</td>\n",
       "      <td>145885.952297</td>\n",
       "      <td>покупка жилья</td>\n",
       "      <td>среднее</td>\n",
       "    </tr>\n",
       "    <tr>\n",
       "      <td>3</td>\n",
       "      <td>3</td>\n",
       "      <td>32</td>\n",
       "      <td>1</td>\n",
       "      <td>женат / замужем</td>\n",
       "      <td>0</td>\n",
       "      <td>M</td>\n",
       "      <td>сотрудник</td>\n",
       "      <td>0</td>\n",
       "      <td>267628.550329</td>\n",
       "      <td>дополнительное образование</td>\n",
       "      <td>среднее</td>\n",
       "    </tr>\n",
       "    <tr>\n",
       "      <td>4</td>\n",
       "      <td>0</td>\n",
       "      <td>53</td>\n",
       "      <td>1</td>\n",
       "      <td>гражданский брак</td>\n",
       "      <td>1</td>\n",
       "      <td>F</td>\n",
       "      <td>пенсионер</td>\n",
       "      <td>0</td>\n",
       "      <td>158616.077870</td>\n",
       "      <td>сыграть свадьбу</td>\n",
       "      <td>среднее</td>\n",
       "    </tr>\n",
       "  </tbody>\n",
       "</table>\n",
       "</div>"
      ],
      "text/plain": [
       "   children  dob_years  education_id     family_status  family_status_id  \\\n",
       "0         1         42             0   женат / замужем                 0   \n",
       "1         1         36             1   женат / замужем                 0   \n",
       "2         0         33             1   женат / замужем                 0   \n",
       "3         3         32             1   женат / замужем                 0   \n",
       "4         0         53             1  гражданский брак                 1   \n",
       "\n",
       "  gender income_type  debt   total_income                     purpose  \\\n",
       "0      F   сотрудник     0  253875.639453               покупка жилья   \n",
       "1      F   сотрудник     0  112080.014102     приобретение автомобиля   \n",
       "2      M   сотрудник     0  145885.952297               покупка жилья   \n",
       "3      M   сотрудник     0  267628.550329  дополнительное образование   \n",
       "4      F   пенсионер     0  158616.077870             сыграть свадьбу   \n",
       "\n",
       "  education_lower  \n",
       "0          высшее  \n",
       "1         среднее  \n",
       "2         среднее  \n",
       "3         среднее  \n",
       "4         среднее  "
      ]
     },
     "metadata": {},
     "output_type": "display_data"
    },
    {
     "name": "stdout",
     "output_type": "stream",
     "text": [
      "<class 'pandas.core.frame.DataFrame'>\n",
      "RangeIndex: 21525 entries, 0 to 21524\n",
      "Data columns (total 11 columns):\n",
      "children            21525 non-null int64\n",
      "dob_years           21525 non-null int64\n",
      "education_id        21525 non-null int64\n",
      "family_status       21525 non-null object\n",
      "family_status_id    21525 non-null int64\n",
      "gender              21525 non-null object\n",
      "income_type         21525 non-null object\n",
      "debt                21525 non-null int64\n",
      "total_income        21525 non-null int64\n",
      "purpose             21525 non-null object\n",
      "education_lower     21525 non-null object\n",
      "dtypes: int64(6), object(5)\n",
      "memory usage: 1.8+ MB\n"
     ]
    }
   ],
   "source": [
    "display(data['children'].unique()) # просмотр уникальных значений в столбце с детьми, выявлены две аномалии: -1 ребёнок не может быть; 20 детей в семье возможны, но под сомнением\n",
    "data['children'] = data['children'].apply(abs)\n",
    "data.loc[data['children'] == 20, 'children'] = 2\n",
    "display(data['children'].unique())\n",
    "display(data['education'].unique()) # проверка уникальных значений в столбце с образованием, в столбце из-за разного регистра\n",
    "data['education_lower'] = data['education'].str.lower()\n",
    "display(data.head())\n",
    "display(data['education_lower'].unique())\n",
    "del data['education']\n",
    "display(data.head())\n",
    "\n",
    "data['total_income'] = data['total_income'].astype('int')\n",
    "data.info()"
   ]
  },
  {
   "cell_type": "markdown",
   "metadata": {},
   "source": [
    "### Вывод"
   ]
  },
  {
   "cell_type": "markdown",
   "metadata": {},
   "source": [
    "Замена отрицательных значений в столбце количества детей, так как значения \"-1\" не может быть.\n",
    "Замена количества детей в размере 20 штук, так как по логике это аномальное явление.\n",
    "Типы данных соответствуют столбцам => замены не требуется.\n",
    "\n",
    "Проверка уникальных значений в столбце с образованием, в столбце из-за разного регистра формируется больше уникальных значений. \n",
    "Приведение всех значений к нижнему регистру и вывод в новом столбце education_lower и проверка на уникальность этого столбца. Удаление изначального столбца education после отработки\n",
    "\n",
    "Доработка после комментариев:\n",
    "Приведение столбца total_income к целочисленному типу данных"
   ]
  },
  {
   "cell_type": "markdown",
   "metadata": {},
   "source": [
    "### Обработка дубликатов"
   ]
  },
  {
   "cell_type": "code",
   "execution_count": 4,
   "metadata": {
    "scrolled": true
   },
   "outputs": [
    {
     "name": "stdout",
     "output_type": "stream",
     "text": [
      "Дубликатов в таблице: 71\n",
      "Дубликатов в таблице: 0\n"
     ]
    }
   ],
   "source": [
    "print ('Дубликатов в таблице:', data.duplicated().sum())\n",
    "data = data.drop_duplicates().reset_index(drop=True)\n",
    "print ('Дубликатов в таблице:', data.duplicated().sum())"
   ]
  },
  {
   "cell_type": "markdown",
   "metadata": {},
   "source": [
    "### Вывод"
   ]
  },
  {
   "cell_type": "markdown",
   "metadata": {},
   "source": [
    "Выявлено 71 повторение и удалено методом .drop_duplicates() с изменением индексов и удалением старых.\n",
    "Предполагаемая причина появления дубликатов - техническая при выгрузке файла."
   ]
  },
  {
   "cell_type": "markdown",
   "metadata": {},
   "source": [
    "### Лемматизация"
   ]
  },
  {
   "cell_type": "code",
   "execution_count": 5,
   "metadata": {},
   "outputs": [
    {
     "name": "stdout",
     "output_type": "stream",
     "text": [
      "Counter({' ': 96, 'покупка': 10, 'недвижимость': 10, 'автомобиль': 9, 'образование': 9, 'жилье': 7, 'с': 5, 'операция': 4, 'на': 4, 'свой': 4, 'свадьба': 3, 'строительство': 3, 'получение': 3, 'высокий': 3, 'дополнительный': 2, 'для': 2, 'коммерческий': 2, 'жилой': 2, 'подержать': 2, 'заниматься': 2, 'сделка': 2, 'приобретение': 1, 'сыграть': 1, 'проведение': 1, 'семья': 1, 'собственный': 1, 'со': 1, 'профильный': 1, 'сдача': 1, 'ремонт': 1, '\\n': 1})\n"
     ]
    }
   ],
   "source": [
    "from pymystem3 import Mystem\n",
    "m = Mystem() \n",
    "text_unique = data['purpose'].unique()\n",
    "text = ' '.join(text_unique)\n",
    "lemmas = m.lemmatize(text)\n",
    "#print(lemmas)\n",
    "from collections import Counter\n",
    "print(Counter(lemmas))\n",
    "data['lemmas_purpose'] = data['purpose'].apply(m.lemmatize)\n",
    "#print(data.head())"
   ]
  },
  {
   "cell_type": "markdown",
   "metadata": {},
   "source": [
    "### Вывод"
   ]
  },
  {
   "cell_type": "markdown",
   "metadata": {},
   "source": [
    "В столбце с назначением кредита выводим уникальные значения и формируем их в одну строку. После чего применяем лематизацию и подсчитываем количество лемм в данном столбце. Далее формируем новый столбец с лемматизацией значений в столбце purpose. "
   ]
  },
  {
   "cell_type": "markdown",
   "metadata": {},
   "source": [
    "### Категоризация данных"
   ]
  },
  {
   "cell_type": "code",
   "execution_count": 6,
   "metadata": {},
   "outputs": [
    {
     "name": "stdout",
     "output_type": "stream",
     "text": [
      "   children  dob_years  education_id     family_status  family_status_id  \\\n",
      "0         1         42             0   женат / замужем                 0   \n",
      "1         1         36             1   женат / замужем                 0   \n",
      "2         0         33             1   женат / замужем                 0   \n",
      "3         3         32             1   женат / замужем                 0   \n",
      "4         0         53             1  гражданский брак                 1   \n",
      "\n",
      "  gender income_type  debt  total_income                     purpose  \\\n",
      "0      F   сотрудник     0        253875               покупка жилья   \n",
      "1      F   сотрудник     0        112080     приобретение автомобиля   \n",
      "2      M   сотрудник     0        145885               покупка жилья   \n",
      "3      M   сотрудник     0        267628  дополнительное образование   \n",
      "4      F   пенсионер     0        158616             сыграть свадьбу   \n",
      "\n",
      "  education_lower                        lemmas_purpose purpose_final  \n",
      "0          высшее               [покупка,  , жилье, \\n]  недвижимость  \n",
      "1         среднее     [приобретение,  , автомобиль, \\n]    автомобиль  \n",
      "2         среднее               [покупка,  , жилье, \\n]  недвижимость  \n",
      "3         среднее  [дополнительный,  , образование, \\n]   образование  \n",
      "4         среднее             [сыграть,  , свадьба, \\n]       свадьба  \n",
      "недвижимость    10811\n",
      "автомобиль       4306\n",
      "образование      4013\n",
      "свадьба          2324\n",
      "Name: purpose_final, dtype: int64\n"
     ]
    }
   ],
   "source": [
    "def category(lemmas_purpose):\n",
    "    if 'недвижимость' in lemmas_purpose or 'жилье' in lemmas_purpose:\n",
    "        return 'недвижимость'\n",
    "    if 'автомобиль' in lemmas_purpose:\n",
    "        return 'автомобиль'\n",
    "    if 'образование' in lemmas_purpose:\n",
    "        return 'образование'\n",
    "    if 'операция' in lemmas_purpose:\n",
    "        return 'операция'\n",
    "    if 'свадьба' in lemmas_purpose:\n",
    "        return 'свадьба'\n",
    "    if 'строительство' in lemmas_purpose:\n",
    "        return 'строительство'\n",
    "    if 'ремонт' in lemmas_purpose:\n",
    "        return 'ремонт'\n",
    "    return 'ошибка'\n",
    "data['purpose_final'] = data['lemmas_purpose'].apply(category)\n",
    "print(data.head())\n",
    "print(data['purpose_final'].value_counts())"
   ]
  },
  {
   "cell_type": "markdown",
   "metadata": {},
   "source": [
    "### Вывод"
   ]
  },
  {
   "cell_type": "markdown",
   "metadata": {},
   "source": [
    "Создаётся новый столбец с категоризацией лемм из столбца lemmas_purpose и подсчёт количества назначений кредита каждой категории. Самый частый кредит - ипотека. Второй приоритет - автомобиль. "
   ]
  },
  {
   "cell_type": "markdown",
   "metadata": {},
   "source": [
    "### Шаг 3. Ответы на вопросы"
   ]
  },
  {
   "cell_type": "markdown",
   "metadata": {},
   "source": [
    "- Есть ли зависимость между наличием детей и возвратом кредита в срок?"
   ]
  },
  {
   "cell_type": "code",
   "execution_count": 7,
   "metadata": {},
   "outputs": [
    {
     "name": "stdout",
     "output_type": "stream",
     "text": [
      "debt            0       1     no_debt      debt\n",
      "children                                       \n",
      "0         13028.0  1063.0   92.456178  7.543822\n",
      "1          4410.0   445.0   90.834192  9.165808\n",
      "2          1926.0   202.0   90.507519  9.492481\n",
      "3           303.0    27.0   91.818182  8.181818\n",
      "4            37.0     4.0   90.243902  9.756098\n",
      "5             9.0     0.0  100.000000  0.000000\n"
     ]
    }
   ],
   "source": [
    "#print(data['total_income'].mean())\n",
    "data_pivot_children = data.pivot_table(index='children', columns='debt', values='total_income', aggfunc='count').fillna(0)\n",
    "data_pivot_children.style.format({'total_income':'{:.0f}'})\n",
    "data_pivot_children['no_debt'] = data_pivot_children[0] / (data_pivot_children[0] + data_pivot_children[1]) * 100\n",
    "data_pivot_children['debt'] = data_pivot_children[1] / (data_pivot_children[0] + data_pivot_children[1]) * 100\n",
    "print(data_pivot_children)"
   ]
  },
  {
   "cell_type": "markdown",
   "metadata": {},
   "source": [
    "### Вывод"
   ]
  },
  {
   "cell_type": "markdown",
   "metadata": {},
   "source": [
    "Для ответа на вопрос о зависимости наличия детей и возвратом кредита в срок была создана сводная таблица с индексом количества детей в семье и столбцами факта возврата или просроченного кредита. Для наглядности были добавлены столбцы соотношения невозвращенных кредитов к полному количеству кредитов по одной категории наличия детей. В результате мы можем наблюдать такие выводы:\n",
    "*  самые ответственные люди статистически с пятью и более детьми, вводных данных с семьями с большим количеством детей не очень много, но некоторые выводы относительно ответственности можно сделать, взяв хотя бы факт отсутствия задолженности на всё количество кредитов \n",
    "* далее статистика показывает наиболее возвращаемые кредиты у людей с тремя детьми\n",
    "* бездетных людей больше - больше и точнее статистика, они на третьем месте по надёжности возврата кредита\n",
    "* на одном уровне надёжности находятся люди с одним или двумя детьми\n",
    "* наименее ответственные люди перед долговыми обязательствами по статистике - с четырьмя детьми\n",
    "\n",
    "С одной стороны, количество детей говорит о стабильности потенциального заемщика, но надо не забывать, что банки обязательно будут вычитать минимальное содержание каждого ребенка из дохода. Люди, заводящие детей, принимающие ответственность не только за себя, но и за другую жизнь, более осознаны в принятии решения вступления в долговые обязательства. Дети являются некими \"якорями\", привязывают к месту (детские сады, школы, их социальная жизнь), семье уже труднее сменить место жительства и скрываться от кредиторов. Но при этом наличие детец сильно увеличивает ежемесячные статьи расходов семьи, что может помешать выплачивать всю ежемесячную сумму погашения кредита или же вообще пропускать выплаты.  "
   ]
  },
  {
   "cell_type": "code",
   "execution_count": 8,
   "metadata": {},
   "outputs": [
    {
     "data": {
      "text/html": [
       "<div>\n",
       "<style scoped>\n",
       "    .dataframe tbody tr th:only-of-type {\n",
       "        vertical-align: middle;\n",
       "    }\n",
       "\n",
       "    .dataframe tbody tr th {\n",
       "        vertical-align: top;\n",
       "    }\n",
       "\n",
       "    .dataframe thead tr th {\n",
       "        text-align: left;\n",
       "    }\n",
       "\n",
       "    .dataframe thead tr:last-of-type th {\n",
       "        text-align: right;\n",
       "    }\n",
       "</style>\n",
       "<table border=\"1\" class=\"dataframe\">\n",
       "  <thead>\n",
       "    <tr>\n",
       "      <th></th>\n",
       "      <th colspan=\"3\" halign=\"left\">debt</th>\n",
       "    </tr>\n",
       "    <tr>\n",
       "      <th></th>\n",
       "      <th>count</th>\n",
       "      <th>sum</th>\n",
       "      <th>mean</th>\n",
       "    </tr>\n",
       "    <tr>\n",
       "      <th>children</th>\n",
       "      <th></th>\n",
       "      <th></th>\n",
       "      <th></th>\n",
       "    </tr>\n",
       "  </thead>\n",
       "  <tbody>\n",
       "    <tr>\n",
       "      <td>0</td>\n",
       "      <td>14091</td>\n",
       "      <td>1063</td>\n",
       "      <td>0.075438</td>\n",
       "    </tr>\n",
       "    <tr>\n",
       "      <td>1</td>\n",
       "      <td>4855</td>\n",
       "      <td>445</td>\n",
       "      <td>0.091658</td>\n",
       "    </tr>\n",
       "    <tr>\n",
       "      <td>2</td>\n",
       "      <td>2128</td>\n",
       "      <td>202</td>\n",
       "      <td>0.094925</td>\n",
       "    </tr>\n",
       "    <tr>\n",
       "      <td>3</td>\n",
       "      <td>330</td>\n",
       "      <td>27</td>\n",
       "      <td>0.081818</td>\n",
       "    </tr>\n",
       "    <tr>\n",
       "      <td>4</td>\n",
       "      <td>41</td>\n",
       "      <td>4</td>\n",
       "      <td>0.097561</td>\n",
       "    </tr>\n",
       "    <tr>\n",
       "      <td>5</td>\n",
       "      <td>9</td>\n",
       "      <td>0</td>\n",
       "      <td>0.000000</td>\n",
       "    </tr>\n",
       "  </tbody>\n",
       "</table>\n",
       "</div>"
      ],
      "text/plain": [
       "           debt                \n",
       "          count   sum      mean\n",
       "children                       \n",
       "0         14091  1063  0.075438\n",
       "1          4855   445  0.091658\n",
       "2          2128   202  0.094925\n",
       "3           330    27  0.081818\n",
       "4            41     4  0.097561\n",
       "5             9     0  0.000000"
      ]
     },
     "execution_count": 8,
     "metadata": {},
     "output_type": "execute_result"
    }
   ],
   "source": [
    "data.groupby('children').agg({'debt':['count', 'sum', 'mean']})"
   ]
  },
  {
   "cell_type": "markdown",
   "metadata": {},
   "source": [
    "- Есть ли зависимость между семейным положением и возвратом кредита в срок?"
   ]
  },
  {
   "cell_type": "code",
   "execution_count": 9,
   "metadata": {},
   "outputs": [
    {
     "name": "stdout",
     "output_type": "stream",
     "text": [
      "debt                       0    1    no_debt      debt\n",
      "family_status                                         \n",
      "Не женат / не замужем   2536  274  90.249110  9.750890\n",
      "в разводе               1110   85  92.887029  7.112971\n",
      "вдовец / вдова           896   63  93.430657  6.569343\n",
      "гражданский брак        3763  388  90.652855  9.347145\n",
      "женат / замужем        11408  931  92.454818  7.545182\n"
     ]
    }
   ],
   "source": [
    "data_pivot_family = data.pivot_table(index='family_status', columns='debt', values='total_income', aggfunc='count').fillna(0)\n",
    "data_pivot_family.style.format({'total_income':'{:.0f}'})\n",
    "data_pivot_family['no_debt'] = data_pivot_family[0] / (data_pivot_family[0] + data_pivot_family[1]) * 100\n",
    "data_pivot_family['debt'] = data_pivot_family[1] / (data_pivot_family[0] + data_pivot_family[1]) * 100\n",
    "print(data_pivot_family)"
   ]
  },
  {
   "cell_type": "markdown",
   "metadata": {},
   "source": [
    "### Вывод"
   ]
  },
  {
   "cell_type": "markdown",
   "metadata": {},
   "source": [
    "Точно таким же способом собирается сводная таблица с индексом по семейному статусу и столбцами по наличию задолженности с добавлением столбцом соотношений невозвращенных кредитов к полному количеству кредитов по одной категории семейного статуса. Из этой таблицы можно сделать выводы:\n",
    "* самый высокий процент отдаваемости кредита в срок у вдовствующих людей\n",
    "* вторым, вызывающим доверие для выдачи кредита, являются люди в разводе\n",
    "* как ни удивительно, но женатые люди занимают третье место в надёжности кредитных обязательств\n",
    "* гражданский брак на четвертом месте \n",
    "* самые безответственные люди являются неженатыми по данным сводной таблицы"
   ]
  },
  {
   "cell_type": "markdown",
   "metadata": {},
   "source": [
    "- Есть ли зависимость между уровнем дохода и возвратом кредита в срок?"
   ]
  },
  {
   "cell_type": "code",
   "execution_count": 10,
   "metadata": {},
   "outputs": [
    {
     "name": "stdout",
     "output_type": "stream",
     "text": [
      "debt                    0     1    no_debt      debt\n",
      "total_income_group                                  \n",
      "высокий доход       15604  1387  91.836855  8.163145\n",
      "низкий доход          349    23  93.817204  6.182796\n",
      "средний доход        3760   331  91.909069  8.090931\n"
     ]
    }
   ],
   "source": [
    "def total_income_group(row):\n",
    "    total_income_group = row\n",
    "    if total_income_group < 50000:\n",
    "        return 'низкий доход'\n",
    "    if 50000 < total_income_group < 100000:\n",
    "        return 'средний доход'\n",
    "    if total_income_group > 100000:\n",
    "        return 'высокий доход'\n",
    "data['total_income_group'] = data['total_income'].apply(total_income_group)\n",
    "#data.info()\n",
    "data_pivot_income = data.pivot_table(index='total_income_group', columns='debt', values='total_income', aggfunc='count').fillna(0)\n",
    "data_pivot_income.style.format({'total_income':'{:.0f}'})\n",
    "data_pivot_income['no_debt'] = data_pivot_income[0] / (data_pivot_income[0] + data_pivot_income[1]) * 100\n",
    "data_pivot_income['debt'] = data_pivot_income[1] / (data_pivot_income[0] + data_pivot_income[1]) * 100\n",
    "print(data_pivot_income)"
   ]
  },
  {
   "cell_type": "markdown",
   "metadata": {},
   "source": [
    "### Вывод"
   ]
  },
  {
   "cell_type": "markdown",
   "metadata": {},
   "source": [
    "Для выявления надёжности заёмщиков по уровням заработных плат было сгруппировано три категории на основании данных из Росстата за 2020 год по средним зарплатам в России: низкий, средний и высокий доходы. Для проведения детального анализа воспользовалась тем же методом сводных таблиц, что и в двух предыдущих случаях. По итогу:\n",
    "* люди с низкими зарплатами самые ответственные \n",
    "* среднее значение надёжности занимают люди со средней зарплатой\n",
    "* самые ненадёжные по статистике данного исследования - люди с высокой зарплатой\n",
    "\n",
    "#спасибо, я изучу побольше про квантилей и в следующей работе с похожими задачами использую, на данный момент я уже не успею в срок изучить и применить этот метод:)"
   ]
  },
  {
   "cell_type": "code",
   "execution_count": 11,
   "metadata": {},
   "outputs": [
    {
     "data": {
      "text/plain": [
       "0.25    107623.00\n",
       "0.50    141943.00\n",
       "0.75    195813.25\n",
       "Name: total_income, dtype: float64"
      ]
     },
     "execution_count": 11,
     "metadata": {},
     "output_type": "execute_result"
    }
   ],
   "source": [
    "data['total_income'].quantile([0.25, 0.5, 0.75])"
   ]
  },
  {
   "cell_type": "markdown",
   "metadata": {},
   "source": [
    "- Как разные цели кредита влияют на его возврат в срок?"
   ]
  },
  {
   "cell_type": "code",
   "execution_count": 12,
   "metadata": {},
   "outputs": [
    {
     "name": "stdout",
     "output_type": "stream",
     "text": [
      "debt               0    1    no_debt      debt\n",
      "purpose_final                                 \n",
      "автомобиль      3903  403  90.640966  9.359034\n",
      "недвижимость   10029  782  92.766627  7.233373\n",
      "образование     3643  370  90.779965  9.220035\n",
      "свадьба         2138  186  91.996558  8.003442\n"
     ]
    }
   ],
   "source": [
    "data_pivot_purpose = data.pivot_table(index='purpose_final', columns='debt', values='total_income', aggfunc='count').fillna(0)\n",
    "data_pivot_purpose.style.format({'total_income':'{:.0f}'})\n",
    "data_pivot_purpose['no_debt'] = data_pivot_purpose[0] / (data_pivot_purpose[0] + data_pivot_purpose[1]) * 100\n",
    "data_pivot_purpose['debt'] = data_pivot_purpose[1] / (data_pivot_purpose[0] + data_pivot_purpose[1]) * 100\n",
    "print(data_pivot_purpose)"
   ]
  },
  {
   "cell_type": "markdown",
   "metadata": {},
   "source": [
    "### Вывод"
   ]
  },
  {
   "cell_type": "markdown",
   "metadata": {},
   "source": [
    "Самый возвращаемый кредитный продукт: ипотека. \n",
    "Ипотеку берут осознанно и подготовившись, составив планы и цели на ближайшие 20 лет, на кону половина жизни человека, поэтому ипотека самый надёжный банковский продукт по статистике. \n",
    "Ипотеку берут семьи с детьми или готовящиеся к рождению детей, для улучшения жилищных условий и предоставления материальных благ в будущем своим потомкам. Для среднестатистического человека стоимость квартиры является достаточно великой, весомой и устрашающей, чтобы попадать в ситуации лишения квартиры, имущества или причинение проблем для своей семьи за неуплату долгов.\n",
    "\n",
    "Второй по возвращаемости кредит: свадьба.\n",
    "Свадьба является радостным, ярким, жизнерадостным и светлым событием для каждой пары, поэтому для проведения торжества опрометчиво берут кредит, подходя к обязательствам не так осознанно, возможно, думая, что подарки на свадьбу окупят занимаемые средства. Но на свадьбу в среднем берут не крупную сумму, что позволяет за небольшой срок её выплатить.\n",
    "\n",
    "Третье место делят кредиты на автомобиль и образование.\n",
    "Автомобиль является признаком достатка. Также приобретается семьями для упрощения смены локаций и перемешения комфортно. Автомобиль требует массы расходов, такие как топливо, налог, штрафы, уход, ремонт, страхование. Автомобиль - движимое имущество, теряющее свою ликвидность ежедневно. Выдавая кредит на машину настоятельно советую смотреть на стаж вождения для определения высоты рисков попадания в аварию. Свежеиспечённый водитель, попав в аварию, повредив траспортное средство, потяеряет некоторую долю мотивации выплачивать кредит за эту машину, которой не может пользоваться.\n",
    "Образование является благородным делом почти для каждого человека в мире. С точки зрения людей оно поможет преодолеть преграду на пути к более финансово комфортной жизни. Чаще всего люди не сопоставляют ценность приобретённых знаний и конвертацию их в материальные блага и попадают в ситуации финансового неблагополучия, где возврат кредита не является первостепенной задачей."
   ]
  },
  {
   "cell_type": "markdown",
   "metadata": {},
   "source": [
    "### Шаг 4. Общий вывод"
   ]
  },
  {
   "cell_type": "markdown",
   "metadata": {},
   "source": [
    "В проекте поднимались вопросы о зависимости наличия детей и семейного положения на возвращаемость кредитов в срок. В датафрейме, предоставленном дл исследования, были проведены первоначальные шаги для качественного анализа данных:\n",
    "* выгрузка файла csv и предварительный просмотр ифнормации о датафрейме\n",
    "  на первый взгляд таблица была подготвлена с соответствующими типами данных\n",
    "  \n",
    "* выявление пропусков\n",
    "  в датафрейме было всего два столбца с пропусками, где один был ликвидирован после логического вывода о минимальном влиянии содержащейся информации в столбце с пропущенными значениями стажа клиентов и второй столбец с ежемесячной зарплатой клиентов(критически важная информация дл исследования)  был обработан на заполнение пропусков медианой - средним значением всего столбца\n",
    "  предполагаемые причины появления пропусков могло являться отсутствие внесения этой информации в базу по решению клиента \n",
    "  \n",
    "* удаление дубликатов и правка данных\n",
    " в таблице был найден 71 дубликат, по соображениям потери малого количества иформации в процентном соотношении (0.00003531) дубликаты были удалены \n",
    " в столбце с детьми было выявлено две привлекающие внимание ошибки: отрицательное количество детей и аномально большое количество детей в семье (20 штук) в 76 строках. При детальном рассмотрении было определено, что это явно ошибка, так как 21-летний человек не может иметь 20 детей. Отрицательное количесто стало положительным, количество 20 детей исправлено на 2.\n",
    " причины дубликатов могли стать сбои в выгрузке файла, причины в количестве детей же является ошибкой человеческого фактора с вероятностью в 80%\n",
    " \n",
    "* лемматизация столбца с назначением кредита для категоризации кредита \n",
    "\n",
    "В результате исследования можно сделать вывод, что самый надёжный заёмщик: вдовец с тремя или пятью детьми с низкой зарплатой с целью приобрести жильё. \n",
    " "
   ]
  }
 ],
 "metadata": {
  "kernelspec": {
   "display_name": "Python 3 (ipykernel)",
   "language": "python",
   "name": "python3"
  },
  "language_info": {
   "codemirror_mode": {
    "name": "ipython",
    "version": 3
   },
   "file_extension": ".py",
   "mimetype": "text/x-python",
   "name": "python",
   "nbconvert_exporter": "python",
   "pygments_lexer": "ipython3",
   "version": "3.9.6"
  },
  "toc": {
   "base_numbering": 1,
   "nav_menu": {},
   "number_sections": true,
   "sideBar": true,
   "skip_h1_title": true,
   "title_cell": "Table of Contents",
   "title_sidebar": "Contents",
   "toc_cell": false,
   "toc_position": {},
   "toc_section_display": true,
   "toc_window_display": false
  }
 },
 "nbformat": 4,
 "nbformat_minor": 2
}
